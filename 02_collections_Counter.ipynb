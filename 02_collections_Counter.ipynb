{
 "cells": [
  {
   "cell_type": "markdown",
   "metadata": {},
   "source": [
    "### collections : Counter 객체 사용하기"
   ]
  },
  {
   "cell_type": "code",
   "execution_count": 1,
   "metadata": {},
   "outputs": [
    {
     "name": "stdout",
     "output_type": "stream",
     "text": [
      "Counter({'aa': 2, 'cc': 1, 'dd': 1, 'bb': 1, 'ee': 1})\n"
     ]
    }
   ],
   "source": [
    "import collections\n",
    "\n",
    "print(collections.Counter(['aa','cc','dd','aa','bb','ee']))"
   ]
  },
  {
   "cell_type": "code",
   "execution_count": 2,
   "metadata": {},
   "outputs": [
    {
     "name": "stdout",
     "output_type": "stream",
     "text": [
      "Counter({'다': 4, '가': 3, '나': 2})\n"
     ]
    }
   ],
   "source": [
    "print(collections.Counter({'가':3, '나':2, '다':4}))"
   ]
  },
  {
   "cell_type": "code",
   "execution_count": 3,
   "metadata": {},
   "outputs": [
    {
     "name": "stdout",
     "output_type": "stream",
     "text": [
      "Counter({'b': 4, 'a': 2, 'c': 1})\n"
     ]
    }
   ],
   "source": [
    "print(collections.Counter(a=2, b=4, c=1))"
   ]
  },
  {
   "cell_type": "code",
   "execution_count": 4,
   "metadata": {},
   "outputs": [
    {
     "name": "stdout",
     "output_type": "stream",
     "text": [
      "Counter()\n"
     ]
    }
   ],
   "source": [
    "container = collections.Counter()\n",
    "print(container)"
   ]
  },
  {
   "cell_type": "code",
   "execution_count": 5,
   "metadata": {},
   "outputs": [
    {
     "name": "stdout",
     "output_type": "stream",
     "text": [
      "Counter({'a': 2, 'f': 2, 'g': 2, 'b': 1, 'c': 1, 'd': 1, 'e': 1})\n"
     ]
    }
   ],
   "source": [
    "container.update('aabcdeffgg')\n",
    "print(container)"
   ]
  },
  {
   "cell_type": "code",
   "execution_count": 6,
   "metadata": {},
   "outputs": [
    {
     "name": "stdout",
     "output_type": "stream",
     "text": [
      "Counter({'f': 5, 'c': 3, 'a': 2, 'g': 2, 'b': 1, 'd': 1, 'e': 1})\n"
     ]
    }
   ],
   "source": [
    "container.update({'c':2, 'f':3})\n",
    "print(container)"
   ]
  },
  {
   "cell_type": "markdown",
   "metadata": {},
   "source": [
    "##### Counter 접근하기"
   ]
  },
  {
   "cell_type": "code",
   "execution_count": 8,
   "metadata": {},
   "outputs": [
    {
     "name": "stdout",
     "output_type": "stream",
     "text": [
      "a: 2\n",
      "b: 1\n",
      "d: 1\n",
      "f: 5\n",
      "e: 1\n",
      "h: 0\n"
     ]
    }
   ],
   "source": [
    "for n in 'abdfeh':\n",
    "    print('%s: %d'%(n, container[n]))"
   ]
  },
  {
   "cell_type": "code",
   "execution_count": 9,
   "metadata": {},
   "outputs": [
    {
     "name": "stdout",
     "output_type": "stream",
     "text": [
      "Counter({'e': 2, 'l': 2, 'n': 2, 'H': 1, 'o': 1, ' ': 1, 'j': 1, 'y': 1, 'x': 0})\n"
     ]
    }
   ],
   "source": [
    "ct = collections.Counter('Hello jenny')\n",
    "ct['x'] = 0\n",
    "print(ct)"
   ]
  },
  {
   "cell_type": "code",
   "execution_count": 10,
   "metadata": {},
   "outputs": [
    {
     "name": "stdout",
     "output_type": "stream",
     "text": [
      "['H', 'e', 'e', 'l', 'l', 'o', ' ', 'j', 'n', 'n', 'y']\n"
     ]
    }
   ],
   "source": [
    "print(list(ct.elements()))"
   ]
  },
  {
   "cell_type": "markdown",
   "metadata": {},
   "source": [
    "##### most_common( ) 사용하기 : 상위 n개를 시퀀스로 만든다."
   ]
  },
  {
   "cell_type": "code",
   "execution_count": 15,
   "metadata": {},
   "outputs": [
    {
     "name": "stdout",
     "output_type": "stream",
     "text": [
      "o :  8\n",
      "g :  7\n",
      "n :  5\n",
      "d :  4\n",
      "e :  4\n"
     ]
    }
   ],
   "source": [
    "ct2 = collections.Counter()\n",
    "with open('test.txt', 'rt') as f:\n",
    "    for li in f:\n",
    "        ct2.update(li.rstrip().lower())\n",
    "        \n",
    "for item, cnt in ct2.most_common(5):\n",
    "    print('%s : %2d' %(item, cnt))"
   ]
  },
  {
   "cell_type": "code",
   "execution_count": 16,
   "metadata": {},
   "outputs": [
    {
     "name": "stdout",
     "output_type": "stream",
     "text": [
      "[('o', 8), ('g', 7), ('n', 5), ('d', 4), ('e', 4), (' ', 4), ('i', 3), ('h', 2), ('l', 2), ('a', 1), ('b', 1), ('c', 1), ('f', 1), ('m', 1), ('r', 1), ('t', 1), ('v', 1)]\n"
     ]
    }
   ],
   "source": [
    "print(ct2.most_common())"
   ]
  },
  {
   "cell_type": "code",
   "execution_count": null,
   "metadata": {},
   "outputs": [],
   "source": []
  }
 ],
 "metadata": {
  "kernelspec": {
   "display_name": "Python 3",
   "language": "python",
   "name": "python3"
  },
  "language_info": {
   "codemirror_mode": {
    "name": "ipython",
    "version": 3
   },
   "file_extension": ".py",
   "mimetype": "text/x-python",
   "name": "python",
   "nbconvert_exporter": "python",
   "pygments_lexer": "ipython3",
   "version": "3.6.5"
  }
 },
 "nbformat": 4,
 "nbformat_minor": 2
}
