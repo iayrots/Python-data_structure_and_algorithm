{
 "cells": [
  {
   "cell_type": "markdown",
   "metadata": {},
   "source": [
    "### collections : namedtuple과 OrderedDict 사용하기\n",
    "##### namedtuple"
   ]
  },
  {
   "cell_type": "code",
   "execution_count": 2,
   "metadata": {},
   "outputs": [
    {
     "name": "stdout",
     "output_type": "stream",
     "text": [
      "홍길동은(는) 24세의 남성입니다.\n",
      "강복녀은(는) 21세의 여성입니다.\n"
     ]
    }
   ],
   "source": [
    "# tuple 예시\n",
    "aa = (\"홍길동\", 24, \"남\")\n",
    "bb = (\"강복녀\", 21, \"여\")\n",
    "\n",
    "for n in [aa, bb]:\n",
    "    print('%s은(는) %d세의 %s성입니다.'%n)"
   ]
  },
  {
   "cell_type": "code",
   "execution_count": 3,
   "metadata": {},
   "outputs": [],
   "source": [
    "import collections\n",
    "\n",
    "Person = collections.namedtuple(\"Person\", \"name age gender\")"
   ]
  },
  {
   "cell_type": "code",
   "execution_count": 6,
   "metadata": {},
   "outputs": [
    {
     "data": {
      "text/plain": [
       "__main__.Person"
      ]
     },
     "execution_count": 6,
     "metadata": {},
     "output_type": "execute_result"
    }
   ],
   "source": [
    "Person"
   ]
  },
  {
   "cell_type": "code",
   "execution_count": 7,
   "metadata": {},
   "outputs": [
    {
     "name": "stdout",
     "output_type": "stream",
     "text": [
      "강길동은(는) 25세의 남성입니다.\n",
      "박복자은(는) 21세의 여성입니다.\n"
     ]
    }
   ],
   "source": [
    "aa = Person(name=\"강길동\", age=25, gender=\"남\")\n",
    "bb = Person(name=\"박복자\", age=21, gender=\"여\")\n",
    "\n",
    "for n in [aa, bb]:\n",
    "    print('%s은(는) %d세의 %s성입니다.'%n)"
   ]
  },
  {
   "cell_type": "markdown",
   "metadata": {},
   "source": [
    "##### OrderedDict : 자료의 순서를 기억하는 사전형 클래스"
   ]
  },
  {
   "cell_type": "code",
   "execution_count": 17,
   "metadata": {
    "scrolled": true
   },
   "outputs": [
    {
     "name": "stdout",
     "output_type": "stream",
     "text": [
      "True\n"
     ]
    }
   ],
   "source": [
    "# dictionery 예시 : 순서 X\n",
    "dic = {}\n",
    "dic[\"서울\"] = \"LG트윈스\"\n",
    "dic[\"대구\"] = \"삼성라이온즈\"\n",
    "dic[\"광주\"] = \"KIA타이거즈\"\n",
    "\n",
    "dic1 = {}\n",
    "dic1[\"서울\"] = \"LG트윈스\"\n",
    "dic1[\"광주\"] = \"KIA타이거즈\"\n",
    "dic1[\"대구\"] = \"삼성라이온즈\"\n",
    "\n",
    "print(dic == dic1)"
   ]
  },
  {
   "cell_type": "code",
   "execution_count": 18,
   "metadata": {},
   "outputs": [
    {
     "name": "stdout",
     "output_type": "stream",
     "text": [
      "False\n"
     ]
    }
   ],
   "source": [
    "# OrderedDict 예시\n",
    "dic2 = collections.OrderedDict()\n",
    "dic2[\"서울\"] = \"LG트윈스\"\n",
    "dic2[\"대구\"] = \"삼성라이온즈\"\n",
    "dic2[\"광주\"] = \"KIA타이거즈\"\n",
    "\n",
    "dic3 = collections.OrderedDict()\n",
    "dic3[\"서울\"] = \"LG트윈스\"\n",
    "dic3[\"광주\"] = \"KIA타이거즈\"\n",
    "dic3[\"대구\"] = \"삼성라이온즈\"\n",
    "\n",
    "print(dic2 == dic3)"
   ]
  }
 ],
 "metadata": {
  "kernelspec": {
   "display_name": "Python 3",
   "language": "python",
   "name": "python3"
  },
  "language_info": {
   "codemirror_mode": {
    "name": "ipython",
    "version": 3
   },
   "file_extension": ".py",
   "mimetype": "text/x-python",
   "name": "python",
   "nbconvert_exporter": "python",
   "pygments_lexer": "ipython3",
   "version": "3.6.5"
  }
 },
 "nbformat": 4,
 "nbformat_minor": 2
}
