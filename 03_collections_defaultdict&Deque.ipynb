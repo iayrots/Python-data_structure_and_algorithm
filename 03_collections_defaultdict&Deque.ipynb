{
 "cells": [
  {
   "cell_type": "markdown",
   "metadata": {},
   "source": [
    "### collections : defaultdict와 Deque 사용하기\n",
    "##### Counter 객체는 산술/집합 연산이 가능하다."
   ]
  },
  {
   "cell_type": "code",
   "execution_count": 2,
   "metadata": {},
   "outputs": [],
   "source": [
    "import collections"
   ]
  },
  {
   "cell_type": "code",
   "execution_count": 8,
   "metadata": {},
   "outputs": [
    {
     "name": "stdout",
     "output_type": "stream",
     "text": [
      "Counter({'a': 2, 'b': 2, 'c': 1, 'd': 1})\n",
      "Counter({'a': 3, 'e': 2, ' ': 1, 'r': 1, 'o': 1, 'p': 1, 'l': 1, 'n': 1})\n"
     ]
    }
   ],
   "source": [
    "ct3 = collections.Counter(['a','b','c','b','d','a'])\n",
    "ct4 = collections.Counter('a aeroplane')\n",
    "\n",
    "print(ct3)\n",
    "print(ct4)"
   ]
  },
  {
   "cell_type": "code",
   "execution_count": 9,
   "metadata": {},
   "outputs": [
    {
     "name": "stdout",
     "output_type": "stream",
     "text": [
      "Counter({'a': 5, 'b': 2, 'e': 2, 'c': 1, 'd': 1, ' ': 1, 'r': 1, 'o': 1, 'p': 1, 'l': 1, 'n': 1})\n"
     ]
    }
   ],
   "source": [
    "print(ct3+ct4)"
   ]
  },
  {
   "cell_type": "code",
   "execution_count": 10,
   "metadata": {},
   "outputs": [
    {
     "name": "stdout",
     "output_type": "stream",
     "text": [
      "Counter({'b': 2, 'c': 1, 'd': 1})\n"
     ]
    }
   ],
   "source": [
    "print(ct3-ct4)"
   ]
  },
  {
   "cell_type": "code",
   "execution_count": 11,
   "metadata": {},
   "outputs": [
    {
     "name": "stdout",
     "output_type": "stream",
     "text": [
      "Counter({'a': 2})\n"
     ]
    }
   ],
   "source": [
    "print(ct3&ct4)"
   ]
  },
  {
   "cell_type": "code",
   "execution_count": 12,
   "metadata": {},
   "outputs": [
    {
     "name": "stdout",
     "output_type": "stream",
     "text": [
      "union Counter({'a': 3, 'b': 2, 'e': 2, 'c': 1, 'd': 1, ' ': 1, 'r': 1, 'o': 1, 'p': 1, 'l': 1, 'n': 1})\n"
     ]
    }
   ],
   "source": [
    "print('union',ct3 | ct4)"
   ]
  },
  {
   "cell_type": "markdown",
   "metadata": {},
   "source": [
    "##### defaultdict : 컨테이너를 초기화 할때, default 값을 지정한다."
   ]
  },
  {
   "cell_type": "code",
   "execution_count": 14,
   "metadata": {},
   "outputs": [],
   "source": [
    "def default_aa():\n",
    "    return \"aa\"\n",
    "\n",
    "dic = collections.defaultdict(default_aa, n1 = '하이')"
   ]
  },
  {
   "cell_type": "code",
   "execution_count": 15,
   "metadata": {},
   "outputs": [
    {
     "name": "stdout",
     "output_type": "stream",
     "text": [
      "defaultdict(<function default_aa at 0x10d137730>, {'n1': '하이'})\n"
     ]
    }
   ],
   "source": [
    "print(dic)"
   ]
  },
  {
   "cell_type": "code",
   "execution_count": 16,
   "metadata": {},
   "outputs": [
    {
     "name": "stdout",
     "output_type": "stream",
     "text": [
      "하이\n"
     ]
    }
   ],
   "source": [
    "print(dic['n1'])"
   ]
  },
  {
   "cell_type": "code",
   "execution_count": 17,
   "metadata": {},
   "outputs": [
    {
     "name": "stdout",
     "output_type": "stream",
     "text": [
      "aa\n"
     ]
    }
   ],
   "source": [
    "# 키값이 없는 값을 index 해주면 디폴트값으로 넣어준 함수의 값이 출력\n",
    "print(dic['n2'])"
   ]
  },
  {
   "cell_type": "markdown",
   "metadata": {},
   "source": [
    "##### Deque : 양방향 큐 (데크), 컨테이너 양쪽(앞뒤)에 아이템을 넣거나 뺄 수 있다. "
   ]
  },
  {
   "cell_type": "code",
   "execution_count": 18,
   "metadata": {},
   "outputs": [
    {
     "name": "stdout",
     "output_type": "stream",
     "text": [
      "deque(['H', 'e', 'l', 'l', 'o', ' ', 'p', 'y', 't', 'h', 'o', 'n'])\n"
     ]
    }
   ],
   "source": [
    "deq = collections.deque('Hello python')\n",
    "print(deq)"
   ]
  },
  {
   "cell_type": "code",
   "execution_count": 19,
   "metadata": {},
   "outputs": [
    {
     "name": "stdout",
     "output_type": "stream",
     "text": [
      "12\n"
     ]
    }
   ],
   "source": [
    "print(len(deq))"
   ]
  },
  {
   "cell_type": "code",
   "execution_count": 20,
   "metadata": {},
   "outputs": [
    {
     "name": "stdout",
     "output_type": "stream",
     "text": [
      "H\n"
     ]
    }
   ],
   "source": [
    "print(deq[0])"
   ]
  },
  {
   "cell_type": "code",
   "execution_count": 21,
   "metadata": {},
   "outputs": [
    {
     "name": "stdout",
     "output_type": "stream",
     "text": [
      "n\n"
     ]
    }
   ],
   "source": [
    "print(deq[-1])"
   ]
  },
  {
   "cell_type": "code",
   "execution_count": 22,
   "metadata": {},
   "outputs": [
    {
     "name": "stdout",
     "output_type": "stream",
     "text": [
      "deque(['H', 'e', 'l', 'l', ' ', 'p', 'y', 't', 'h', 'o', 'n'])\n"
     ]
    }
   ],
   "source": [
    "deq.remove('o')\n",
    "print(deq)"
   ]
  },
  {
   "cell_type": "code",
   "execution_count": 23,
   "metadata": {
    "scrolled": true
   },
   "outputs": [
    {
     "name": "stdout",
     "output_type": "stream",
     "text": [
      "deque(['H', 'e', 'l', 'l', ' ', 'p', 'y', 't', 'h', 'o', 'n', 'k'])\n"
     ]
    }
   ],
   "source": [
    "deq.append('k')\n",
    "print(deq)"
   ]
  },
  {
   "cell_type": "code",
   "execution_count": 24,
   "metadata": {},
   "outputs": [
    {
     "name": "stdout",
     "output_type": "stream",
     "text": [
      "deque(['k', 'H', 'e', 'l', 'l', ' ', 'p', 'y', 't', 'h', 'o', 'n', 'k'])\n"
     ]
    }
   ],
   "source": [
    "deq.appendleft('k')\n",
    "print(deq)"
   ]
  },
  {
   "cell_type": "code",
   "execution_count": 25,
   "metadata": {},
   "outputs": [
    {
     "name": "stdout",
     "output_type": "stream",
     "text": [
      "deque(['d', 'k', 'H', 'e', 'l', 'l', ' ', 'p', 'y', 't', 'h', 'o', 'n', 'k'])\n"
     ]
    }
   ],
   "source": [
    "deq.extendleft('d')\n",
    "print(deq)"
   ]
  },
  {
   "cell_type": "code",
   "execution_count": 37,
   "metadata": {},
   "outputs": [],
   "source": [
    "deq1 = collections.deque()\n",
    "deq1.extend('가나다라마바사')"
   ]
  },
  {
   "cell_type": "code",
   "execution_count": 38,
   "metadata": {},
   "outputs": [
    {
     "name": "stdout",
     "output_type": "stream",
     "text": [
      "deque(['가', '나', '다', '라', '마', '바', '사'])\n"
     ]
    }
   ],
   "source": [
    "print(deq1)"
   ]
  },
  {
   "cell_type": "code",
   "execution_count": 39,
   "metadata": {},
   "outputs": [
    {
     "name": "stdout",
     "output_type": "stream",
     "text": [
      "deque(['가', '나', '다', '라', '마', '바', '사', '자'])\n"
     ]
    }
   ],
   "source": [
    "deq1.append('자')\n",
    "print(deq1)"
   ]
  },
  {
   "cell_type": "code",
   "execution_count": 40,
   "metadata": {},
   "outputs": [
    {
     "name": "stdout",
     "output_type": "stream",
     "text": [
      "deque(['사', '가', '나', '다', '라', '마', '바', '사', '자'])\n"
     ]
    }
   ],
   "source": [
    "deq1.extendleft('사')\n",
    "print(deq1)"
   ]
  },
  {
   "cell_type": "markdown",
   "metadata": {},
   "source": [
    "##### 아이템 꺼내기"
   ]
  },
  {
   "cell_type": "code",
   "execution_count": 36,
   "metadata": {},
   "outputs": [
    {
     "name": "stdout",
     "output_type": "stream",
     "text": [
      "자 사 바 마 라 다 나 가 사 "
     ]
    }
   ],
   "source": [
    "# 오른쪽에서 부터 꺼내오기\n",
    "while True:\n",
    "    try:\n",
    "        print(deq1.pop(), end=' ')\n",
    "    except IndexError:\n",
    "        break"
   ]
  },
  {
   "cell_type": "code",
   "execution_count": 41,
   "metadata": {},
   "outputs": [
    {
     "name": "stdout",
     "output_type": "stream",
     "text": [
      "사 가 나 다 라 마 바 사 자 "
     ]
    }
   ],
   "source": [
    "# 왼쪽에서 부터 꺼내오기\n",
    "while True:\n",
    "    try:\n",
    "        print(deq1.popleft(), end=' ')\n",
    "    except IndexError:\n",
    "        break"
   ]
  }
 ],
 "metadata": {
  "kernelspec": {
   "display_name": "Python 3",
   "language": "python",
   "name": "python3"
  },
  "language_info": {
   "codemirror_mode": {
    "name": "ipython",
    "version": 3
   },
   "file_extension": ".py",
   "mimetype": "text/x-python",
   "name": "python",
   "nbconvert_exporter": "python",
   "pygments_lexer": "ipython3",
   "version": "3.6.5"
  }
 },
 "nbformat": 4,
 "nbformat_minor": 2
}
