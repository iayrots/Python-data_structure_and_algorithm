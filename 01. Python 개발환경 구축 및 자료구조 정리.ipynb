{
 "cells": [
  {
   "cell_type": "markdown",
   "metadata": {},
   "source": [
    "# Python 개발환경 구축 및 자료구조 정리"
   ]
  },
  {
   "cell_type": "markdown",
   "metadata": {},
   "source": [
    "### 통합개발환경 ( IDE, Intergrated Developer Environment )\n",
    "- 프로그램 개발과 관련된 모든 작업을 통합하여 관리해주는 소프트웨어\n",
    "- ex) 코딩, 디버깅, 빌드, 협업, 문서화, 배포 등\n",
    "- 파이썬은 스크립트 언어의 특성상 (1줄, 1줄 실행) IDE 활요 필요성이 타언어에 비해 상대적으로 낮지만, 최근 웹개발 등 대규모 개발이 지속적으로 진행되며 IDE 활용이 높아지고 있음"
   ]
  },
  {
   "cell_type": "markdown",
   "metadata": {},
   "source": [
    "### PyCharm 설치 및 환경설정\n",
    "- https://www.jetbrains.com/pycharm/?fromMenu"
   ]
  },
  {
   "cell_type": "markdown",
   "metadata": {},
   "source": [
    "### 파이썬에서 제공하는 표준 자료구조: 리스트, 튜플, 딕셔너리(사전), 셋(집합)"
   ]
  },
  {
   "cell_type": "markdown",
   "metadata": {},
   "source": [
    "### 앞으로 공부할 자료구조 모듈의 간단한 소개\n",
    "\n",
    "#### collections 모듈\n",
    "- deque : 양쪽이 열려있는 큐구조. 많이 사용.\n",
    "- defaultdict : key가 없는 데이터 사전\n",
    "- Counter \n",
    "- namedtuple \n",
    "- OrderedDict \n",
    "\n",
    "#### array 모듈\n",
    "- 동일한 데이터 타입을 가짐.(list는 여러가지 데이터 타입을 가지므로 메모리 사용에 비효율적)\n",
    "- 메모리 낭비가 없음.\n",
    "- array 사용하는 방법\n",
    "\n",
    "#### heapq 모듈\n",
    "- 리스트의 경우 sort()로 정렬 => 데이터가 많다면 정렬하는데 소요되는 메모리가 많이 든다는 단점이 있음.\n",
    "- heapq 모듈을 사용하면 정렬된 상태로 유지하기 때문에 메모리 관점에서 유리함\n",
    "- heap 생성\n",
    "- heap 내부자료 접근법\n",
    "\n",
    "#### bisect 모듈\n",
    "- 정렬된 상태로 요소를 추가\n",
    "- 중복값을 처리\n",
    "\n",
    "#### Queue 모듈\n",
    "\n",
    "#### struct 모듈\n",
    "\n",
    "#### copy 모듈"
   ]
  },
  {
   "cell_type": "code",
   "execution_count": null,
   "metadata": {},
   "outputs": [],
   "source": []
  }
 ],
 "metadata": {
  "kernelspec": {
   "display_name": "Python 3",
   "language": "python",
   "name": "python3"
  },
  "language_info": {
   "codemirror_mode": {
    "name": "ipython",
    "version": 3
   },
   "file_extension": ".py",
   "mimetype": "text/x-python",
   "name": "python",
   "nbconvert_exporter": "python",
   "pygments_lexer": "ipython3",
   "version": "3.6.5"
  }
 },
 "nbformat": 4,
 "nbformat_minor": 2
}
